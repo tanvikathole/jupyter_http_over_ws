{
  "cells": [
    {
      "cell_type": "markdown",
      "metadata": {
        "id": "view-in-github",
        "colab_type": "text"
      },
      "source": [
        "<a href=\"https://colab.research.google.com/github/tanvikathole/jupyter_http_over_ws/blob/main/Welcome_To_Colaboratory.ipynb\" target=\"_parent\"><img src=\"https://colab.research.google.com/assets/colab-badge.svg\" alt=\"Open In Colab\"/></a>"
      ]
    },
    {
      "cell_type": "code",
      "execution_count": null,
      "metadata": {
        "id": "C4HZx7Gndbrh"
      },
      "outputs": [],
      "source": [
        ""
      ]
    },
    {
      "cell_type": "code",
      "source": [
        "#empty list\n",
        "e_list=[]\n",
        "print(e_list)\n"
      ],
      "metadata": {
        "colab": {
          "base_uri": "https://localhost:8080/"
        },
        "id": "y1rREek1DKFq",
        "outputId": "92e24aa6-655a-464c-cbb5-f900ac8125b6"
      },
      "execution_count": 2,
      "outputs": [
        {
          "output_type": "stream",
          "name": "stdout",
          "text": [
            "[]\n"
          ]
        }
      ]
    },
    {
      "cell_type": "code",
      "source": [
        "l1=[1,3.14,'tyco','tanvi',-90]\n",
        "print(l1)"
      ],
      "metadata": {
        "colab": {
          "base_uri": "https://localhost:8080/"
        },
        "id": "vmPdlNwSDdSC",
        "outputId": "9cf71063-7c1f-40c2-b3a3-c060042278e8"
      },
      "execution_count": 4,
      "outputs": [
        {
          "output_type": "stream",
          "name": "stdout",
          "text": [
            "[1, 3.14, 'tyco', 'tanvi', -90]\n"
          ]
        }
      ]
    },
    {
      "cell_type": "markdown",
      "source": [
        "append() : adds an alement to the end of the list\n",
        "syntax:\n",
        "list.append(element)\n",
        "\n",
        "old object will be modified.\n",
        "Return type will be list."
      ],
      "metadata": {
        "id": "iHGX8BE_BD-W"
      }
    },
    {
      "cell_type": "code",
      "source": [
        "odd =[1,2,3,4]\n",
        "odd.append(7)\n",
        "print(odd)\n"
      ],
      "metadata": {
        "colab": {
          "base_uri": "https://localhost:8080/"
        },
        "id": "CKRXG0j9Fpj0",
        "outputId": "0ef48f59-5891-42c5-f5b6-4d94622db8da"
      },
      "execution_count": 5,
      "outputs": [
        {
          "output_type": "stream",
          "name": "stdout",
          "text": [
            "[1, 2, 3, 4, 7]\n"
          ]
        }
      ]
    },
    {
      "cell_type": "markdown",
      "source": [
        "extend() : adds elements of a list to the end of current list.\n",
        "syntax:\n",
        "list.extend(iterable)"
      ],
      "metadata": {
        "id": "lJhwTX09F3WO"
      }
    },
    {
      "cell_type": "code",
      "source": [
        "\n",
        "odd.extend([9,11,13,56,12,45])\n",
        "print(odd)"
      ],
      "metadata": {
        "colab": {
          "base_uri": "https://localhost:8080/"
        },
        "id": "as99HuwsGGPr",
        "outputId": "8c79ed3b-24fe-4b42-f1dc-f4cdc9fe75fc"
      },
      "execution_count": 10,
      "outputs": [
        {
          "output_type": "stream",
          "name": "stdout",
          "text": [
            "[9, 11, 130, 9, 11, 13, 9, 11, 13, 56, 12, 45]\n"
          ]
        }
      ]
    },
    {
      "cell_type": "code",
      "source": [
        "copy() : Returns a copy of the list.\n",
        "syntax:\n",
        "list.copy()"
      ],
      "metadata": {
        "id": "HBD7R8FqHRg4"
      },
      "execution_count": null,
      "outputs": []
    },
    {
      "cell_type": "code",
      "source": [
        "odd1=odd.copy()\n",
        "print(odd1)"
      ],
      "metadata": {
        "colab": {
          "base_uri": "https://localhost:8080/"
        },
        "id": "SdlEsiw-IV4T",
        "outputId": "46855de8-07cc-4759-c0eb-dc34fd101eda"
      },
      "execution_count": 11,
      "outputs": [
        {
          "output_type": "stream",
          "name": "stdout",
          "text": [
            "[9, 11, 130, 9, 11, 13, 9, 11, 13, 56, 12, 45]\n"
          ]
        }
      ]
    },
    {
      "cell_type": "code",
      "source": [
        "clear() : Clears all thw elements of the list.\n",
        "syntax:\n",
        "list.clear()"
      ],
      "metadata": {
        "id": "LbNaXhanIf0A"
      },
      "execution_count": null,
      "outputs": []
    },
    {
      "cell_type": "code",
      "source": [
        "odd.clear()\n",
        "print(odd)"
      ],
      "metadata": {
        "colab": {
          "base_uri": "https://localhost:8080/"
        },
        "id": "XYHI1PWrIqlQ",
        "outputId": "d30c0d77-7c18-4355-e90a-f68b60d57d9d"
      },
      "execution_count": 15,
      "outputs": [
        {
          "output_type": "stream",
          "name": "stdout",
          "text": [
            "[]\n"
          ]
        }
      ]
    },
    {
      "cell_type": "code",
      "source": [
        "count() : Returns the number of elemnets with the speified Value.\n",
        "syntax:\n",
        "list.count(value)\n"
      ],
      "metadata": {
        "id": "N22KmtquJQGv"
      },
      "execution_count": null,
      "outputs": []
    },
    {
      "cell_type": "code",
      "source": [
        "l2=[1,'PQR',98.34,'TEST','WELCOME',56,89,23,56,45,31]\n",
        "l2.count(56)"
      ],
      "metadata": {
        "colab": {
          "base_uri": "https://localhost:8080/"
        },
        "id": "NMxOvonHJ_IG",
        "outputId": "ed114cda-ffff-4f8d-e154-d96fea93a8ac"
      },
      "execution_count": 17,
      "outputs": [
        {
          "output_type": "execute_result",
          "data": {
            "text/plain": [
              "2"
            ]
          },
          "metadata": {},
          "execution_count": 17
        }
      ]
    },
    {
      "cell_type": "code",
      "source": [
        "index() : Returns the index of the first element with the specified Value.\n",
        "syntax:\n",
        "list.index(element) "
      ],
      "metadata": {
        "id": "rdK1Po0QKTp9"
      },
      "execution_count": null,
      "outputs": []
    },
    {
      "cell_type": "code",
      "source": [
        "print(l2.index(56))"
      ],
      "metadata": {
        "colab": {
          "base_uri": "https://localhost:8080/"
        },
        "id": "74h6SkziKrdt",
        "outputId": "39550d60-4c8a-450c-f2a4-967e060b8b6f"
      },
      "execution_count": 22,
      "outputs": [
        {
          "output_type": "stream",
          "name": "stdout",
          "text": [
            "5\n"
          ]
        }
      ]
    },
    {
      "cell_type": "code",
      "source": [
        "\n",
        "insert() : adds an element at the specified Position.\n",
        "syntax:\n",
        "list.insert(position, element)\n"
      ],
      "metadata": {
        "id": "ax0Nn9tILJ7G"
      },
      "execution_count": null,
      "outputs": []
    },
    {
      "cell_type": "code",
      "source": [
        "fruits=['apple','banana','cherry']\n",
        "fruits.insert(3,'orange')\n",
        "print(fruits)"
      ],
      "metadata": {
        "colab": {
          "base_uri": "https://localhost:8080/"
        },
        "id": "YwxtAP5qLluz",
        "outputId": "66caf819-61c6-40fd-df2d-ec2af4e05260"
      },
      "execution_count": 24,
      "outputs": [
        {
          "output_type": "stream",
          "name": "stdout",
          "text": [
            "['apple', 'banana', 'cherry', 'orange']\n"
          ]
        }
      ]
    },
    {
      "cell_type": "code",
      "source": [
        "reverse() : reverses the order of the list.\n",
        "syntax: \n",
        "list.reverse()"
      ],
      "metadata": {
        "id": "E9Njs_MgL8kE"
      },
      "execution_count": null,
      "outputs": []
    },
    {
      "cell_type": "code",
      "source": [
        "fruits.reverse()\n",
        "print(fruits)"
      ],
      "metadata": {
        "colab": {
          "base_uri": "https://localhost:8080/"
        },
        "id": "h52fAzVaMLRL",
        "outputId": "1c211562-145d-476e-e286-49f9459b6d86"
      },
      "execution_count": 25,
      "outputs": [
        {
          "output_type": "stream",
          "name": "stdout",
          "text": [
            "['orange', 'cherry', 'banana', 'apple']\n"
          ]
        }
      ]
    },
    {
      "cell_type": "code",
      "source": [
        "sort() : sorts the element of a list in ascending order. "
      ],
      "metadata": {
        "id": "Wux7O0YdMVsR"
      },
      "execution_count": null,
      "outputs": []
    }
  ],
  "metadata": {
    "colab": {
      "collapsed_sections": [],
      "name": "Welcome To Colaboratory",
      "toc_visible": true,
      "provenance": [],
      "include_colab_link": true
    },
    "kernelspec": {
      "display_name": "Python 3",
      "name": "python3"
    }
  },
  "nbformat": 4,
  "nbformat_minor": 0
}